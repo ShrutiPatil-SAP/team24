{
 "cells": [
  {
   "cell_type": "code",
   "execution_count": 6,
   "metadata": {},
   "outputs": [],
   "source": [
    "#Read from SQLite database and load to a pandas dataframe\n",
    "import os\n",
    "import sqlite3\n",
    "import pandas as pd\n"
   ]
  },
  {
   "cell_type": "code",
   "execution_count": 7,
   "metadata": {},
   "outputs": [],
   "source": [
    "# Function to load data from SQLite database\n",
    "def load_from_db(db_name, table_name):\n",
    "    conn = sqlite3.connect(db_name)\n",
    "    query = f'SELECT * FROM {table_name}'\n",
    "    df = pd.read_sql(query, conn)\n",
    "    conn.close()\n",
    "\n",
    "    return df"
   ]
  },
  {
   "cell_type": "code",
   "execution_count": 12,
   "metadata": {},
   "outputs": [
    {
     "name": "stdout",
     "output_type": "stream",
     "text": [
      "             Incident_Date Line Incident_Time Day_of_Week  \\\n",
      "0      2023-01-01 00:00:00  509         02:37      Sunday   \n",
      "1      2023-01-01 00:00:00  505         02:40      Sunday   \n",
      "2      2023-01-01 00:00:00  504         02:52      Sunday   \n",
      "3      2023-01-01 00:00:00  504         02:59      Sunday   \n",
      "4      2023-01-01 00:00:00  509         03:33      Sunday   \n",
      "...                    ...  ...           ...         ...   \n",
      "25495  2024-09-30 00:00:00  504         23:08      Monday   \n",
      "25496  2024-09-30 00:00:00  501         23:30      Monday   \n",
      "25497  2024-09-30 00:00:00  501         23:35      Monday   \n",
      "25498  2024-09-30 00:00:00  503         01:30      Monday   \n",
      "25499  2024-09-30 00:00:00  505         01:33      Monday   \n",
      "\n",
      "                     Location               Incident  Min_Delay  Min_Gap  \\\n",
      "0      QUEENS QUAY AND SPADIN             Operations          0        0   \n",
      "1       BROADVIEW AND GERRARD                Held By         15       25   \n",
      "2           KING AND BATHURST  Cleaning - Unsanitary         10       20   \n",
      "3           KING AND BATHURST                Held By         25       35   \n",
      "4      QUEENS QUAY AND SPADIN             Operations          0        0   \n",
      "...                       ...                    ...        ...      ...   \n",
      "25495        QUEEN AND LESLIE     Emergency Services          0        0   \n",
      "25496      QUEEN AND LOCKWOOD          General Delay          4       14   \n",
      "25497          KING AND YONGE          General Delay         10       20   \n",
      "25498  KINGSTON ROAD AND WEVE               Security          5       15   \n",
      "25499        QUEEN AND LESLIE     Emergency Services          0        0   \n",
      "\n",
      "      Bound  Vehicle  \n",
      "0         E     4403  \n",
      "1         W     4460  \n",
      "2         W     4427  \n",
      "3         E     4560  \n",
      "4         E     4570  \n",
      "...     ...      ...  \n",
      "25495     W     4619  \n",
      "25496     W     4491  \n",
      "25497     E     4479  \n",
      "25498     W     4402  \n",
      "25499     W     4487  \n",
      "\n",
      "[25500 rows x 10 columns]\n"
     ]
    }
   ],
   "source": [
    "\n",
    "db_name = './db/streetcardelaydb.db'  # Replace with your SQLite database name\n",
    "table_name = 'streetcar_delay_data'  # Replace with your table name\n",
    "\n",
    "# Load data from SQLite database\n",
    "df = load_from_db(db_name, table_name)\n",
    "\n",
    "# Display the DataFrame\n",
    "print(df)\n",
    "    \n"
   ]
  }
 ],
 "metadata": {
  "kernelspec": {
   "display_name": "dsi_participant",
   "language": "python",
   "name": "python3"
  },
  "language_info": {
   "codemirror_mode": {
    "name": "ipython",
    "version": 3
   },
   "file_extension": ".py",
   "mimetype": "text/x-python",
   "name": "python",
   "nbconvert_exporter": "python",
   "pygments_lexer": "ipython3",
   "version": "3.9.15"
  }
 },
 "nbformat": 4,
 "nbformat_minor": 2
}
