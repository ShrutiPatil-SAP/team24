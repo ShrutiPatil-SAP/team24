{
 "cells": [
  {
   "cell_type": "code",
   "execution_count": 2,
   "metadata": {},
   "outputs": [],
   "source": [
    "#Read from SQLite database and load to a pandas dataframe\n",
    "import os\n",
    "import sqlite3\n",
    "import pandas as pd\n"
   ]
  },
  {
   "cell_type": "code",
   "execution_count": 3,
   "metadata": {},
   "outputs": [],
   "source": [
    "# Function to load data from SQLite database\n",
    "def load_from_db(db_name, table_name):\n",
    "    conn = sqlite3.connect(db_name)\n",
    "    query = f'SELECT * FROM {table_name}'\n",
    "    df = pd.read_sql(query, conn)\n",
    "    conn.close()\n",
    "\n",
    "    return df"
   ]
  },
  {
   "cell_type": "code",
   "execution_count": 4,
   "metadata": {},
   "outputs": [
    {
     "name": "stdout",
     "output_type": "stream",
     "text": [
      "      incident_date line incident_time day_of_week                location  \\\n",
      "0        2023-01-01  505         02:40      Sunday   BROADVIEW AND GERRARD   \n",
      "1        2023-01-01  504         02:52      Sunday       KING AND BATHURST   \n",
      "2        2023-01-01  504         02:59      Sunday       KING AND BATHURST   \n",
      "3        2023-01-01  510         05:38      Sunday      SPADINA AND DUNDAS   \n",
      "4        2023-01-01  506         06:35      Sunday       OSSINGTON STATION   \n",
      "...             ...  ...           ...         ...                     ...   \n",
      "21737    2024-09-30  505         20:58      Monday       DUNDAS AND CHURCH   \n",
      "21738    2024-09-30  501         22:28      Monday       NEVILLE PARK LOOP   \n",
      "21739    2024-09-30  501         23:30      Monday      QUEEN AND LOCKWOOD   \n",
      "21740    2024-09-30  501         23:35      Monday          KING AND YONGE   \n",
      "21741    2024-09-30  503         01:30      Monday  KINGSTON ROAD AND WEVE   \n",
      "\n",
      "                    incident  min_delay  min_gap bound vehicle  isHoliday  \\\n",
      "0                    Held By         15       25     W    4460       True   \n",
      "1      Cleaning - Unsanitary         10       20     W    4427       True   \n",
      "2                    Held By         25       35     E    4560       True   \n",
      "3                   Security         15       30     S    4449       True   \n",
      "4                   Security         10       20  None    8706       True   \n",
      "...                      ...        ...      ...   ...     ...        ...   \n",
      "21737          General Delay         10       20     W    4557      False   \n",
      "21738     Emergency Services         10       20  None    4437      False   \n",
      "21739          General Delay          4       14     W    4491      False   \n",
      "21740          General Delay         10       20     E    4479      False   \n",
      "21741               Security          5       15     W    4402      False   \n",
      "\n",
      "       isWeekend  isEndOfMth lineId  lineType  \n",
      "0           True       False    505       2.0  \n",
      "1           True       False    504       2.0  \n",
      "2           True       False    504       2.0  \n",
      "3           True       False    510       2.0  \n",
      "4           True       False    506       2.0  \n",
      "...          ...         ...    ...       ...  \n",
      "21737      False        True    505       2.0  \n",
      "21738      False        True    501       2.0  \n",
      "21739      False        True    501       2.0  \n",
      "21740      False        True    501       2.0  \n",
      "21741      False        True    503       2.0  \n",
      "\n",
      "[21742 rows x 15 columns]\n"
     ]
    }
   ],
   "source": [
    "\n",
    "# Check if __file__ is defined\n",
    "if '__file__' in globals():\n",
    "    # Get the directory two levels up from the current script\n",
    "    base_dir = os.path.abspath(os.path.join(os.path.dirname(__file__), '..', '..'))\n",
    "else:\n",
    "    # Fallback for environments where __file__ is not defined\n",
    "    base_dir = os.path.abspath(os.path.join(os.getcwd(), '..'))\n",
    "    \n",
    "    # Construct the relative path to the database\n",
    "db_name = os.path.join(base_dir, 'data', 'streetcardelaydb.db')\n",
    "table_name = 'Streetcar_Delay_Data'  # Replace with your table name\n",
    "\n",
    "# Check if the database file exists\n",
    "if not os.path.exists(db_name):\n",
    "    raise FileNotFoundError(f\"Database file not found: {db_name}\")\n",
    "\n",
    "# Load data from SQLite database\n",
    "df = load_from_db(db_name, table_name)\n",
    "\n",
    "# Convert Incident_Date to datetime\n",
    "df['incident_date'] = pd.to_datetime(df['incident_date'])\n",
    "\n",
    "# Add isHoliday column (assuming you have a function or list of holidays)\n",
    "holidays = ['2023-01-01', '2023-12-25']  # Example holidays\n",
    "df['isHoliday'] = df['incident_date'].dt.strftime('%Y-%m-%d').isin(holidays)\n",
    "\n",
    "# Add isWeekend column\n",
    "df['isWeekend'] = df['incident_date'].dt.weekday >= 5\n",
    "\n",
    "# Add isEndOfMth column\n",
    "df['isEndOfMth'] = df['incident_date'].dt.is_month_end\n",
    "\n",
    "# Load Line table to get lineType\n",
    "line_table_name = 'Line'  # Replace with your line table name\n",
    "line_df = load_from_db(db_name, line_table_name)\n",
    "\n",
    "# Ensure lineType is set to 4 if Streetcar_Delay_Data.line value is not found in Line.lineId\n",
    "line_df['lineType'] = line_df['lineType'].fillna(4) # Assuming 4 is the default value\n",
    "    \n",
    "# Merge the dataframes on lineId\n",
    "df = df.merge(line_df[['lineId', 'lineType']], left_on='line', right_on='lineId', how='left')\n",
    "\n",
    "# Display the DataFrame\n",
    "print(df)\n",
    "    \n"
   ]
  }
 ],
 "metadata": {
  "kernelspec": {
   "display_name": "dsi_participant",
   "language": "python",
   "name": "python3"
  },
  "language_info": {
   "codemirror_mode": {
    "name": "ipython",
    "version": 3
   },
   "file_extension": ".py",
   "mimetype": "text/x-python",
   "name": "python",
   "nbconvert_exporter": "python",
   "pygments_lexer": "ipython3",
   "version": "3.9.15"
  }
 },
 "nbformat": 4,
 "nbformat_minor": 2
}
